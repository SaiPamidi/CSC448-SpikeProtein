{
 "cells": [
  {
   "cell_type": "markdown",
   "metadata": {},
   "source": [
    "# Analysis of the spike proteins in sars-cov-2"
   ]
  },
  {
   "cell_type": "markdown",
   "metadata": {},
   "source": [
    "## Mutations in the spike protein"
   ]
  },
  {
   "cell_type": "markdown",
   "metadata": {},
   "source": [
    "Since most of the vaccines developed against covid-19 seem to be targeting on the spike protein, I will be analyzing the mutations in them to see if the vaccine would work in the long term."
   ]
  },
  {
   "cell_type": "markdown",
   "metadata": {},
   "source": [
    "I have collected all my data from NCBI https://www.ncbi.nlm.nih.gov/labs/virus/vssi/#/ and have also used their multiple alignment to align the spike protein sequences."
   ]
  },
  {
   "cell_type": "code",
   "execution_count": 3,
   "metadata": {},
   "outputs": [
    {
     "data": {
      "text/html": [
       "<div>\n",
       "<style scoped>\n",
       "    .dataframe tbody tr th:only-of-type {\n",
       "        vertical-align: middle;\n",
       "    }\n",
       "\n",
       "    .dataframe tbody tr th {\n",
       "        vertical-align: top;\n",
       "    }\n",
       "\n",
       "    .dataframe thead th {\n",
       "        text-align: right;\n",
       "    }\n",
       "</style>\n",
       "<table border=\"1\" class=\"dataframe\">\n",
       "  <thead>\n",
       "    <tr style=\"text-align: right;\">\n",
       "      <th></th>\n",
       "      <th>Accession</th>\n",
       "      <th>Release_Date</th>\n",
       "      <th>Species</th>\n",
       "      <th>Length</th>\n",
       "      <th>Geo_Location</th>\n",
       "      <th>Host</th>\n",
       "      <th>Isolation_Source</th>\n",
       "      <th>Collection_Date</th>\n",
       "    </tr>\n",
       "  </thead>\n",
       "  <tbody>\n",
       "    <tr>\n",
       "      <th>3</th>\n",
       "      <td>QIU81813</td>\n",
       "      <td>2020-04-06T00:00:00Z</td>\n",
       "      <td>Severe acute respiratory syndrome-related coro...</td>\n",
       "      <td>1273</td>\n",
       "      <td>China: Wuhan</td>\n",
       "      <td>Homo sapiens</td>\n",
       "      <td>lung</td>\n",
       "      <td>2019-12-30</td>\n",
       "    </tr>\n",
       "    <tr>\n",
       "      <th>5</th>\n",
       "      <td>QHN73810</td>\n",
       "      <td>2020-01-24T00:00:00Z</td>\n",
       "      <td>Severe acute respiratory syndrome-related coro...</td>\n",
       "      <td>1273</td>\n",
       "      <td>China</td>\n",
       "      <td>Homo sapiens</td>\n",
       "      <td>lung, oronasopharynx</td>\n",
       "      <td>2020-01-11</td>\n",
       "    </tr>\n",
       "    <tr>\n",
       "      <th>4</th>\n",
       "      <td>QID21068</td>\n",
       "      <td>2020-02-24T00:00:00Z</td>\n",
       "      <td>Severe acute respiratory syndrome-related coro...</td>\n",
       "      <td>1273</td>\n",
       "      <td>USA: TX</td>\n",
       "      <td>Homo sapiens</td>\n",
       "      <td>lung, oronasopharynx</td>\n",
       "      <td>2020-02-11</td>\n",
       "    </tr>\n",
       "    <tr>\n",
       "      <th>0</th>\n",
       "      <td>QKG88526</td>\n",
       "      <td>2020-06-04T00:00:00Z</td>\n",
       "      <td>Severe acute respiratory syndrome-related coro...</td>\n",
       "      <td>1273</td>\n",
       "      <td>USA: Massachusetts</td>\n",
       "      <td>Homo sapiens</td>\n",
       "      <td>oronasopharynx</td>\n",
       "      <td>2020-03-13</td>\n",
       "    </tr>\n",
       "    <tr>\n",
       "      <th>1</th>\n",
       "      <td>QKE45668</td>\n",
       "      <td>2020-05-28T00:00:00Z</td>\n",
       "      <td>Severe acute respiratory syndrome-related coro...</td>\n",
       "      <td>1273</td>\n",
       "      <td>USA: CA</td>\n",
       "      <td>Homo sapiens</td>\n",
       "      <td>NaN</td>\n",
       "      <td>2020-04-14</td>\n",
       "    </tr>\n",
       "    <tr>\n",
       "      <th>2</th>\n",
       "      <td>QJX44550</td>\n",
       "      <td>2020-05-20T00:00:00Z</td>\n",
       "      <td>Severe acute respiratory syndrome-related coro...</td>\n",
       "      <td>1273</td>\n",
       "      <td>India: Ahmedabad</td>\n",
       "      <td>Homo sapiens</td>\n",
       "      <td>NaN</td>\n",
       "      <td>2020-05-05</td>\n",
       "    </tr>\n",
       "  </tbody>\n",
       "</table>\n",
       "</div>"
      ],
      "text/plain": [
       "  Accession          Release_Date  \\\n",
       "3  QIU81813  2020-04-06T00:00:00Z   \n",
       "5  QHN73810  2020-01-24T00:00:00Z   \n",
       "4  QID21068  2020-02-24T00:00:00Z   \n",
       "0  QKG88526  2020-06-04T00:00:00Z   \n",
       "1  QKE45668  2020-05-28T00:00:00Z   \n",
       "2  QJX44550  2020-05-20T00:00:00Z   \n",
       "\n",
       "                                             Species  Length  \\\n",
       "3  Severe acute respiratory syndrome-related coro...    1273   \n",
       "5  Severe acute respiratory syndrome-related coro...    1273   \n",
       "4  Severe acute respiratory syndrome-related coro...    1273   \n",
       "0  Severe acute respiratory syndrome-related coro...    1273   \n",
       "1  Severe acute respiratory syndrome-related coro...    1273   \n",
       "2  Severe acute respiratory syndrome-related coro...    1273   \n",
       "\n",
       "         Geo_Location          Host      Isolation_Source Collection_Date  \n",
       "3        China: Wuhan  Homo sapiens                  lung      2019-12-30  \n",
       "5               China  Homo sapiens  lung, oronasopharynx      2020-01-11  \n",
       "4             USA: TX  Homo sapiens  lung, oronasopharynx      2020-02-11  \n",
       "0  USA: Massachusetts  Homo sapiens        oronasopharynx      2020-03-13  \n",
       "1             USA: CA  Homo sapiens                   NaN      2020-04-14  \n",
       "2    India: Ahmedabad  Homo sapiens                   NaN      2020-05-05  "
      ]
     },
     "execution_count": 3,
     "metadata": {},
     "output_type": "execute_result"
    }
   ],
   "source": [
    "import pandas as pd\n",
    "#I will be using the following surface protein sequences (contains the spike proteins)\n",
    "spikeProteins = pd.read_csv(\"sars-cov-2_sprotein.csv\").sort_values(\"Collection_Date\")\n",
    "spikeProteins"
   ]
  },
  {
   "cell_type": "markdown",
   "metadata": {},
   "source": [
    "I will be calculating the mutation score as the change in protein type in the multiple alignment of the sequences that is\n",
    "mutation = mismatches between two protein sequences after alignment\n",
    "where mismatches are substitution, insertion or deletion of a protein type."
   ]
  },
  {
   "cell_type": "code",
   "execution_count": 7,
   "metadata": {},
   "outputs": [],
   "source": [
    "#mismatches takes in two virus sequence and finds the total mismatches\n",
    "def mismatches(seq1, seq2):\n",
    "    miss = 0\n",
    "    for i in range(len(seq1)):\n",
    "        if seq1[i] != seq2[i]:\n",
    "            miss += 1\n",
    "        if seq1[i] == \"-\" and seq2[i] == \"-\":\n",
    "            miss += 1\n",
    "    return miss\n",
    "\n",
    "#data preprocessing \n",
    "\n",
    "#matches the sequence name in the downloaded file to the give sequence name\n",
    "def findSeq(query, seqNames):\n",
    "    for i in seqNames:\n",
    "        if query.find(i) > 0:\n",
    "            return i\n",
    "    print(\"no such sequence found\")\n",
    "\n",
    "#takes in a file with .aln and and cleans up the sequences to strings\n",
    "def getMutationScores(filename, seqNames):\n",
    "    file = open(filename, 'r')\n",
    "    str1 = \"\"\n",
    "    cleanSeqs = {}\n",
    "    for i in file:\n",
    "        str1 += i\n",
    "    seqData = str1.strip().split('>')\n",
    "    seqData = seqData[1:]\n",
    "    for seq in seqData:\n",
    "        seqStr = seq.strip().split(\"\\n\")\n",
    "        cleanSeqs[findSeq(seqStr[0], seqNames)] = (\"\".join(seqStr[1:]))\n",
    "        #print(len(cleanSeqs[findSeq(seqStr[0], seqNames)]))\n",
    "    mismatchScores = []\n",
    "    for i in range(len(seqNames)-1):\n",
    "        mismatchScores.append(mismatches(\n",
    "            cleanSeqs[seqNames[i]], cleanSeqs[seqNames[i+1]]))\n",
    "    return([0] + mismatchScores)"
   ]
  },
  {
   "cell_type": "code",
   "execution_count": 9,
   "metadata": {},
   "outputs": [],
   "source": [
    "sars_cov_2_scores = getMutationScores(\"sars-cov-2_Sprotein.aln\",spikeProteins['Accession'])"
   ]
  },
  {
   "cell_type": "code",
   "execution_count": 15,
   "metadata": {},
   "outputs": [
    {
     "data": {
      "text/html": [
       "<div>\n",
       "<style scoped>\n",
       "    .dataframe tbody tr th:only-of-type {\n",
       "        vertical-align: middle;\n",
       "    }\n",
       "\n",
       "    .dataframe tbody tr th {\n",
       "        vertical-align: top;\n",
       "    }\n",
       "\n",
       "    .dataframe thead th {\n",
       "        text-align: right;\n",
       "    }\n",
       "</style>\n",
       "<table border=\"1\" class=\"dataframe\">\n",
       "  <thead>\n",
       "    <tr style=\"text-align: right;\">\n",
       "      <th></th>\n",
       "      <th>Accession</th>\n",
       "      <th>Mutations</th>\n",
       "      <th>date</th>\n",
       "    </tr>\n",
       "  </thead>\n",
       "  <tbody>\n",
       "    <tr>\n",
       "      <th>3</th>\n",
       "      <td>QIU81813</td>\n",
       "      <td>0</td>\n",
       "      <td>2019-12-30</td>\n",
       "    </tr>\n",
       "    <tr>\n",
       "      <th>5</th>\n",
       "      <td>QHN73810</td>\n",
       "      <td>3</td>\n",
       "      <td>2020-01-11</td>\n",
       "    </tr>\n",
       "    <tr>\n",
       "      <th>4</th>\n",
       "      <td>QID21068</td>\n",
       "      <td>3</td>\n",
       "      <td>2020-02-11</td>\n",
       "    </tr>\n",
       "    <tr>\n",
       "      <th>0</th>\n",
       "      <td>QKG88526</td>\n",
       "      <td>1</td>\n",
       "      <td>2020-03-13</td>\n",
       "    </tr>\n",
       "    <tr>\n",
       "      <th>1</th>\n",
       "      <td>QKE45668</td>\n",
       "      <td>0</td>\n",
       "      <td>2020-04-14</td>\n",
       "    </tr>\n",
       "    <tr>\n",
       "      <th>2</th>\n",
       "      <td>QJX44550</td>\n",
       "      <td>0</td>\n",
       "      <td>2020-05-05</td>\n",
       "    </tr>\n",
       "  </tbody>\n",
       "</table>\n",
       "</div>"
      ],
      "text/plain": [
       "  Accession  Mutations        date\n",
       "3  QIU81813          0  2019-12-30\n",
       "5  QHN73810          3  2020-01-11\n",
       "4  QID21068          3  2020-02-11\n",
       "0  QKG88526          1  2020-03-13\n",
       "1  QKE45668          0  2020-04-14\n",
       "2  QJX44550          0  2020-05-05"
      ]
     },
     "execution_count": 15,
     "metadata": {},
     "output_type": "execute_result"
    }
   ],
   "source": [
    "S_protein_mutation = pd.DataFrame(spikeProteins['Accession'],columns = [\"Accession\"])\n",
    "S_protein_mutation['Mutations'] = sars_cov_2_scores\n",
    "S_protein_mutation['date'] = spikeProteins['Collection_Date']\n",
    "S_protein_mutation                                                                   "
   ]
  },
  {
   "cell_type": "code",
   "execution_count": 32,
   "metadata": {},
   "outputs": [
    {
     "data": {
      "text/plain": [
       "Text(0,0.5,'mutation score - change in codons')"
      ]
     },
     "execution_count": 32,
     "metadata": {},
     "output_type": "execute_result"
    },
    {
     "data": {
      "image/png": "[encoded data removed]",
      "text/plain": [
       "<Figure size 432x288 with 1 Axes>"
      ]
     },
     "metadata": {},
     "output_type": "display_data"
    }
   ],
   "source": [
    "import matplotlib.pyplot as plt\n",
    "plt.plot(S_protein_mutation['date'],S_protein_mutation['Mutations'])\n",
    "plt.title(\"Mutations in the surface protein of Covid-19 year 2020\")\n",
    "plt.xlabel(\"dates\")\n",
    "plt.ylabel(\"mutation score - change in codons\")"
   ]
  },
  {
   "cell_type": "markdown",
   "metadata": {},
   "source": [
    "I was surprised that there was very little mutation because from my previous study on the mutation rates of sars-cov-2(the whole genome), the average was around 300 nucleotides per month but in the surface protein the peak mutation rate seems to be around 9 nucleotides. (note I am using protein codons in sequencing.)"
   ]
  },
  {
   "cell_type": "markdown",
   "metadata": {},
   "source": [
    "Just to show the comparision of the low mutation rate I will be comparing it with the mutation rate in HIV virus's envelope protein."
   ]
  },
  {
   "cell_type": "code",
   "execution_count": 21,
   "metadata": {},
   "outputs": [
    {
     "data": {
      "text/html": [
       "<div>\n",
       "<style scoped>\n",
       "    .dataframe tbody tr th:only-of-type {\n",
       "        vertical-align: middle;\n",
       "    }\n",
       "\n",
       "    .dataframe tbody tr th {\n",
       "        vertical-align: top;\n",
       "    }\n",
       "\n",
       "    .dataframe thead th {\n",
       "        text-align: right;\n",
       "    }\n",
       "</style>\n",
       "<table border=\"1\" class=\"dataframe\">\n",
       "  <thead>\n",
       "    <tr style=\"text-align: right;\">\n",
       "      <th></th>\n",
       "      <th>Accession</th>\n",
       "      <th>Release_Date</th>\n",
       "      <th>Species</th>\n",
       "      <th>Length</th>\n",
       "      <th>Geo_Location</th>\n",
       "      <th>Host</th>\n",
       "      <th>Isolation_Source</th>\n",
       "      <th>Collection_Date</th>\n",
       "    </tr>\n",
       "  </thead>\n",
       "  <tbody>\n",
       "    <tr>\n",
       "      <th>0</th>\n",
       "      <td>QDG08607</td>\n",
       "      <td>2019-07-03T00:00:00Z</td>\n",
       "      <td>Human immunodeficiency virus 1</td>\n",
       "      <td>661</td>\n",
       "      <td>France</td>\n",
       "      <td>Homo sapiens</td>\n",
       "      <td>NaN</td>\n",
       "      <td>2015-01-20</td>\n",
       "    </tr>\n",
       "    <tr>\n",
       "      <th>2</th>\n",
       "      <td>QDG08857</td>\n",
       "      <td>2019-07-03T00:00:00Z</td>\n",
       "      <td>Human immunodeficiency virus 1</td>\n",
       "      <td>697</td>\n",
       "      <td>France</td>\n",
       "      <td>Homo sapiens</td>\n",
       "      <td>NaN</td>\n",
       "      <td>2015-03-25</td>\n",
       "    </tr>\n",
       "    <tr>\n",
       "      <th>3</th>\n",
       "      <td>QDG08874</td>\n",
       "      <td>2019-07-03T00:00:00Z</td>\n",
       "      <td>Human immunodeficiency virus 1</td>\n",
       "      <td>701</td>\n",
       "      <td>France</td>\n",
       "      <td>Homo sapiens</td>\n",
       "      <td>NaN</td>\n",
       "      <td>2015-04-14</td>\n",
       "    </tr>\n",
       "    <tr>\n",
       "      <th>1</th>\n",
       "      <td>QDG08619</td>\n",
       "      <td>2019-07-03T00:00:00Z</td>\n",
       "      <td>Human immunodeficiency virus 1</td>\n",
       "      <td>661</td>\n",
       "      <td>France</td>\n",
       "      <td>Homo sapiens</td>\n",
       "      <td>NaN</td>\n",
       "      <td>2015-06-25</td>\n",
       "    </tr>\n",
       "    <tr>\n",
       "      <th>4</th>\n",
       "      <td>QDG08944</td>\n",
       "      <td>2019-07-03T00:00:00Z</td>\n",
       "      <td>Human immunodeficiency virus 1</td>\n",
       "      <td>707</td>\n",
       "      <td>France</td>\n",
       "      <td>Homo sapiens</td>\n",
       "      <td>NaN</td>\n",
       "      <td>2015-08-28</td>\n",
       "    </tr>\n",
       "    <tr>\n",
       "      <th>5</th>\n",
       "      <td>QDG08946</td>\n",
       "      <td>2019-07-03T00:00:00Z</td>\n",
       "      <td>Human immunodeficiency virus 1</td>\n",
       "      <td>709</td>\n",
       "      <td>France</td>\n",
       "      <td>Homo sapiens</td>\n",
       "      <td>NaN</td>\n",
       "      <td>2015-09-29</td>\n",
       "    </tr>\n",
       "  </tbody>\n",
       "</table>\n",
       "</div>"
      ],
      "text/plain": [
       "  Accession          Release_Date                         Species  Length  \\\n",
       "0  QDG08607  2019-07-03T00:00:00Z  Human immunodeficiency virus 1     661   \n",
       "2  QDG08857  2019-07-03T00:00:00Z  Human immunodeficiency virus 1     697   \n",
       "3  QDG08874  2019-07-03T00:00:00Z  Human immunodeficiency virus 1     701   \n",
       "1  QDG08619  2019-07-03T00:00:00Z  Human immunodeficiency virus 1     661   \n",
       "4  QDG08944  2019-07-03T00:00:00Z  Human immunodeficiency virus 1     707   \n",
       "5  QDG08946  2019-07-03T00:00:00Z  Human immunodeficiency virus 1     709   \n",
       "\n",
       "  Geo_Location          Host  Isolation_Source Collection_Date  \n",
       "0       France  Homo sapiens               NaN      2015-01-20  \n",
       "2       France  Homo sapiens               NaN      2015-03-25  \n",
       "3       France  Homo sapiens               NaN      2015-04-14  \n",
       "1       France  Homo sapiens               NaN      2015-06-25  \n",
       "4       France  Homo sapiens               NaN      2015-08-28  \n",
       "5       France  Homo sapiens               NaN      2015-09-29  "
      ]
     },
     "execution_count": 21,
     "metadata": {},
     "output_type": "execute_result"
    }
   ],
   "source": [
    "hiv = pd.read_csv(\"HIV.csv\").sort_values(\"Collection_Date\")\n",
    "hiv"
   ]
  },
  {
   "cell_type": "code",
   "execution_count": 27,
   "metadata": {},
   "outputs": [
    {
     "data": {
      "text/html": [
       "<div>\n",
       "<style scoped>\n",
       "    .dataframe tbody tr th:only-of-type {\n",
       "        vertical-align: middle;\n",
       "    }\n",
       "\n",
       "    .dataframe tbody tr th {\n",
       "        vertical-align: top;\n",
       "    }\n",
       "\n",
       "    .dataframe thead th {\n",
       "        text-align: right;\n",
       "    }\n",
       "</style>\n",
       "<table border=\"1\" class=\"dataframe\">\n",
       "  <thead>\n",
       "    <tr style=\"text-align: right;\">\n",
       "      <th></th>\n",
       "      <th>Accession</th>\n",
       "      <th>mutation scores</th>\n",
       "      <th>date</th>\n",
       "    </tr>\n",
       "  </thead>\n",
       "  <tbody>\n",
       "    <tr>\n",
       "      <th>0</th>\n",
       "      <td>QDG08607</td>\n",
       "      <td>0</td>\n",
       "      <td>2015-01-20</td>\n",
       "    </tr>\n",
       "    <tr>\n",
       "      <th>2</th>\n",
       "      <td>QDG08857</td>\n",
       "      <td>205</td>\n",
       "      <td>2015-03-25</td>\n",
       "    </tr>\n",
       "    <tr>\n",
       "      <th>3</th>\n",
       "      <td>QDG08874</td>\n",
       "      <td>269</td>\n",
       "      <td>2015-04-14</td>\n",
       "    </tr>\n",
       "    <tr>\n",
       "      <th>1</th>\n",
       "      <td>QDG08619</td>\n",
       "      <td>193</td>\n",
       "      <td>2015-06-25</td>\n",
       "    </tr>\n",
       "    <tr>\n",
       "      <th>4</th>\n",
       "      <td>QDG08944</td>\n",
       "      <td>206</td>\n",
       "      <td>2015-08-28</td>\n",
       "    </tr>\n",
       "    <tr>\n",
       "      <th>5</th>\n",
       "      <td>QDG08946</td>\n",
       "      <td>182</td>\n",
       "      <td>2015-09-29</td>\n",
       "    </tr>\n",
       "  </tbody>\n",
       "</table>\n",
       "</div>"
      ],
      "text/plain": [
       "  Accession  mutation scores        date\n",
       "0  QDG08607                0  2015-01-20\n",
       "2  QDG08857              205  2015-03-25\n",
       "3  QDG08874              269  2015-04-14\n",
       "1  QDG08619              193  2015-06-25\n",
       "4  QDG08944              206  2015-08-28\n",
       "5  QDG08946              182  2015-09-29"
      ]
     },
     "execution_count": 27,
     "metadata": {},
     "output_type": "execute_result"
    }
   ],
   "source": [
    "hiv_scores = getMutationScores(\"HIV.aln\",hiv['Accession'])\n",
    "hiv_mutation = pd.DataFrame(hiv['Accession'],columns = [\"Accession\"])\n",
    "hiv_mutation['mutation scores'] = hiv_scores\n",
    "hiv_mutation['date'] = hiv[\"Collection_Date\"]\n",
    "hiv_mutation"
   ]
  },
  {
   "cell_type": "code",
   "execution_count": 33,
   "metadata": {},
   "outputs": [
    {
     "data": {
      "text/plain": [
       "Text(0,0.5,'mutation score - change in codons')"
      ]
     },
     "execution_count": 33,
     "metadata": {},
     "output_type": "execute_result"
    },
    {
     "data": {
      "image/png": "[encoded data removed]",
      "text/plain": [
       "<Figure size 432x288 with 1 Axes>"
      ]
     },
     "metadata": {},
     "output_type": "display_data"
    }
   ],
   "source": [
    "plt.plot(hiv_mutation['date'],hiv_mutation['mutation scores'])\n",
    "plt.title(\"Mutations in the envelope protein of HIV Year 2015\")\n",
    "plt.xlabel(\"dates\")\n",
    "plt.ylabel(\"mutation score - change in codons\")"
   ]
  },
  {
   "cell_type": "markdown",
   "metadata": {},
   "source": [
    "The mutation rates in the HIV envelope glycoprotein are very high compared to the spike proteins in SARS-cov-2. It makes sense why it is very hard to make a vaccine for HIV since the mutation rates seem to be very high. On the other hand looking at the spike proteins in SARS-COV-2, I can see why the vaccines seem to target the spike proteins because if its very low mutation rates."
   ]
  },
  {
   "cell_type": "markdown",
   "metadata": {},
   "source": [
    "## Comapring the spike proteins between two Coronaviruses"
   ]
  },
  {
   "cell_type": "markdown",
   "metadata": {},
   "source": [
    "I came across an interesting article onb how SARS antibody's seem to be working on covid-19 as the antibodies seem to neutralize the spike proteins. \n",
    "https://www.nature.com/articles/s41586-020-2349-y\n",
    "\n",
    "the the above article inspired me to analyze the spike proteins between SARS and Sars-Cov-2.\n",
    "I have used NCBI again to obtain the data of these protiens - \n",
    "\n",
    ">QKE61636.1 |surface glycoprotein [Severe acute respiratory syndrome coronavirus 2]\n",
    "MFVFLVLLPLVSSQCVNLTTRTQLPPAYTNSFTRGVYYPDKVFRSSVLHSTQDLFLPFFS\n",
    "NVTWFHAIHVSGTNGTKRFDNPVLPFNDGVYFASTEKSNIIRGWIFGTTLDSKTQSLLIV\n",
    "NNATNVVIKVCEFQFCNDPFLGVYYHKNNKSWMESEFRVYSSANNCTFEYVSQPFLMDLE\n",
    "GKQGNFKNLREFVFKNIDGYFKIYSKHTPINLVRDLPQGFSALEPLVDLPIGINITRFQT\n",
    "LLALHRSYLTPGDSSSGWTAGAAAYYVGYLQPRTFLLKYNENGTITDAVDCALDPLSETK\n",
    "CTLKSFTVEKGIYQTSNFRVQPTESIVRFPNITNLCPFGEVFNATRFASVYAWNRKRISN\n",
    "CVADYSVLYNSASFSTFKCYGVSPTKLNDLCFTNVYADSFVIRGDEVRQIAPGQTGKIAD\n",
    "YNYKLPDDFTGCVIAWNSNNLDSKVGGNYNYLYRLFRKSNLKPFERDISTEIYQAGSTPC\n",
    "NGVEGFNCYFPLQSYGFQPTNGVGYQPYRVVVLSFELLHAPATVCGPKKSTNLVKNKCVN\n",
    "FNFNGLTGTGVLTESNKKFLPFQQFGRDIADTTDAVRDPQTLEILDITPCSFGGVSVITP\n",
    "GTNTSNQVAVLYQDVNCTEVPVAIHADQLTPTWRVYSTGSNVFQTRAGCLIGAEHVNNSY\n",
    "ECDIPIGAGICASYQTQTNSPRRARSVASQSIIAYTMSLGAENSVAYSNNSIAIPTNFTI\n",
    "SVTTEILPVSMTKTSVDCTMYICGDSTECSNLLLQYGSFCTQLNRALTGIAVEQDKNTQE\n",
    "VFAQVKQIYKTPPIKDFGGFNFSQILPDPSKPSKRSFIEDLLFNKVTLADAGFIKQYGDC\n",
    "LGDIAARDLICAQKFNGLTVLPPLLTDEMIAQYTSALLAGTITSGWTFGAGAALQIPFAM\n",
    "QMAYRFNGIGVTQNVLYENQKLIANQFNSAIGKIQDSLSSTASALGKLQDVVNQNAQALN\n",
    "TLVKQLSSNFGAISSVLNDILSRLDKVEAEVQIDRLITGRLQSLQTYVTQQLIRAAEIRA\n",
    "SANLAATKMSECVLGQSKRVDFCGKGYHLMSFPQSAPHGVVFLHVTYVPAQEKNFTTAPA\n",
    "ICHDGKAHFPREGVFVSNGTHWFVTQRNFYEPQIITTDNTFVSGNCDVVIGIVNNTVYDP\n",
    "LQPELDSFKEELDKYFKNHTSPDVDLGDISGINASVVNIQKEIDRLNEVAKNLNESLIDL\n",
    "QELGKYEQYIKWPWYIWLGFIAGLIAIVMVTIMLCCMTSCCSCLKGCCSCGSCCKFDEDD\n",
    "SEPVLKGVKLHYT\n",
    ">P59594.1 |RecName: Full=Spike glycoprotein; Short=S glycoprotein; AltName: Full=E2; AltName: Full=Peplomer protein; Contains: RecName: Full=Spike protein S1; Contains: RecName: Full=Spike protein S2; Contains: RecName: Full=Spike protein S2'; Flags: Precursor\n",
    "MFIFLLFLTLTSGSDLDRCTTFDDVQAPNYTQHTSSMRGVYYPDEIFRSDTLYLTQDLFL\n",
    "PFYSNVTGFHTINHTFGNPVIPFKDGIYFAATEKSNVVRGWVFGSTMNNKSQSVIIINNS\n",
    "TNVVIRACNFELCDNPFFAVSKPMGTQTHTMIFDNAFNCTFEYISDAFSLDVSEKSGNFK\n",
    "HLREFVFKNKDGFLYVYKGYQPIDVVRDLPSGFNTLKPIFKLPLGINITNFRAILTAFSP\n",
    "AQDIWGTSAAAYFVGYLKPTTFMLKYDENGTITDAVDCSQNPLAELKCSVKSFEIDKGIY\n",
    "QTSNFRVVPSGDVVRFPNITNLCPFGEVFNATKFPSVYAWERKKISNCVADYSVLYNSTF\n",
    "FSTFKCYGVSATKLNDLCFSNVYADSFVVKGDDVRQIAPGQTGVIADYNYKLPDDFMGCV\n",
    "LAWNTRNIDATSTGNYNYKYRYLRHGKLRPFERDISNVPFSPDGKPCTPPALNCYWPLND\n",
    "YGFYTTTGIGYQPYRVVVLSFELLNAPATVCGPKLSTDLIKNQCVNFNFNGLTGTGVLTP\n",
    "SSKRFQPFQQFGRDVSDFTDSVRDPKTSEILDISPCSFGGVSVITPGTNASSEVAVLYQD\n",
    "VNCTDVSTAIHADQLTPAWRIYSTGNNVFQTQAGCLIGAEHVDTSYECDIPIGAGICASY\n",
    "HTVSLLRSTSQKSIVAYTMSLGADSSIAYSNNTIAIPTNFSISITTEVMPVSMAKTSVDC\n",
    "NMYICGDSTECANLLLQYGSFCTQLNRALSGIAAEQDRNTREVFAQVKQMYKTPTLKYFG\n",
    "GFNFSQILPDPLKPTKRSFIEDLLFNKVTLADAGFMKQYGECLGDINARDLICAQKFNGL\n",
    "TVLPPLLTDDMIAAYTAALVSGTATAGWTFGAGAALQIPFAMQMAYRFNGIGVTQNVLYE\n",
    "NQKQIANQFNKAISQIQESLTTTSTALGKLQDVVNQNAQALNTLVKQLSSNFGAISSVLN\n",
    "DILSRLDKVEAEVQIDRLITGRLQSLQTYVTQQLIRAAEIRASANLAATKMSECVLGQSK\n",
    "RVDFCGKGYHLMSFPQAAPHGVVFLHVTYVPSQERNFTTAPAICHEGKAYFPREGVFVFN\n",
    "GTSWFITQRNFFSPQIITTDNTFVSGNCDVVIGIINNTVYDPLQPELDSFKEELDKYFKN\n",
    "HTSPDVDLGDISGINASVVNIQKEIDRLNEVAKNLNESLIDLQELGKYEQYIKWPWYVWL\n",
    "GFIAGLIAIVMVTILLCCMTSCCSCLKGACSCGSCCKFDEDDSEPVLKGVKLHYT"
   ]
  },
  {
   "cell_type": "code",
   "execution_count": 60,
   "metadata": {},
   "outputs": [],
   "source": [
    "#data preprocessing\n",
    "file = open(\"sars12.fasta\",\"r\")\n",
    "content = \"\"\n",
    "for line in file:\n",
    "    content += line\n",
    "seqs = content.split(\">\")\n",
    "seq1,seq2 = seqs[1],seqs[2]\n",
    "SARS_COV2_seq = \"\".join(seq1.strip().split(\"\\n\")[1:])\n",
    "SARS_seq = \"\".join(seq2.strip().split(\"\\n\")[1:])"
   ]
  },
  {
   "cell_type": "code",
   "execution_count": 79,
   "metadata": {},
   "outputs": [],
   "source": [
    "uniqueProteins = []\n",
    "for i in SARS_COV2_seq:\n",
    "    if i not in uniqueProteins:\n",
    "        uniqueProteins.append(i)\n",
    "for i in SARS_seq:\n",
    "    if i not in uniqueProteins:\n",
    "        uniqueProteins.append(i)\n",
    "uniqueProteins.sort()"
   ]
  },
  {
   "cell_type": "code",
   "execution_count": 140,
   "metadata": {},
   "outputs": [
    {
     "data": {
      "image/png": "[encoded data removed]",
      "text/plain": [
       "<Figure size 1440x1080 with 1 Axes>"
      ]
     },
     "metadata": {},
     "output_type": "display_data"
    }
   ],
   "source": [
    "import numpy as np\n",
    "proteinCount_SARS_Cov_2 = {}\n",
    "proteinCount_SARS = {}\n",
    "for i in uniqueProteins:\n",
    "    proteinCount_SARS_Cov_2[i] = 0\n",
    "for i in uniqueProteins:\n",
    "    proteinCount_SARS[i] = 0\n",
    "for i in SARS_COV2_seq:\n",
    "     proteinCount_SARS_Cov_2[i] += 1\n",
    "for i in SARS_seq:\n",
    "     proteinCount_SARS[i] += 1\n",
    "\n",
    "x = np.arange(20)\n",
    "fig, ax = plt.subplots(figsize=(20,15))\n",
    "w = 0.35\n",
    "ax.bar(x,proteinCount_SARS_Cov_2.values(),label='sars-cov-2',width=w)\n",
    "ax.bar(x+w,proteinCount_SARS.values(),label='sars',width = w)\n",
    "plt.xticks(x + w, uniqueProteins1)\n",
    "plt.legend()\n",
    "plt.show()"
   ]
  },
  {
   "cell_type": "markdown",
   "metadata": {},
   "source": [
    "The composition of proteins between them seem pretty similar but wasn't able to able to factor in the order of sequence which is an important factor in comparing to genomes.\n",
    "(Not sure how to compare sequences of different viruses other than looking at composition)"
   ]
  }
 ],
 "metadata": {
  "kernelspec": {
   "display_name": "Python 3",
   "language": "python",
   "name": "python3"
  },
  "language_info": {
   "codemirror_mode": {
    "name": "ipython",
    "version": 3
   },
   "file_extension": ".py",
   "mimetype": "text/x-python",
   "name": "python",
   "nbconvert_exporter": "python",
   "pygments_lexer": "ipython3",
   "version": "3.6.8"
  }
 },
 "nbformat": 4,
 "nbformat_minor": 2
}
